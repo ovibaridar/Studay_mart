{
 "cells": [
  {
   "cell_type": "code",
   "execution_count": 97,
   "id": "bf2f57b3-bf50-4492-95b1-801cdce334ae",
   "metadata": {
    "tags": []
   },
   "outputs": [],
   "source": [
    "import pandas as pd"
   ]
  },
  {
   "cell_type": "code",
   "execution_count": 98,
   "id": "e87e8c7b-9211-4a69-97ec-805445509e8d",
   "metadata": {
    "tags": []
   },
   "outputs": [],
   "source": [
    "import numpy as nm"
   ]
  },
  {
   "cell_type": "code",
   "execution_count": 99,
   "id": "286e403f-14f0-4b74-94aa-e90e5f5712ab",
   "metadata": {
    "tags": []
   },
   "outputs": [],
   "source": [
    "path=\"Data sets/price.csv\""
   ]
  },
  {
   "cell_type": "code",
   "execution_count": 100,
   "id": "8d536350-0a29-4ced-bffa-fe532bb3dda2",
   "metadata": {
    "tags": []
   },
   "outputs": [],
   "source": [
    "data=pd.read_csv(path)"
   ]
  },
  {
   "cell_type": "code",
   "execution_count": 101,
   "id": "d0cd1be7-05c8-4780-aa14-b33197da39f2",
   "metadata": {
    "tags": []
   },
   "outputs": [
    {
     "data": {
      "text/html": [
       "<div>\n",
       "<style scoped>\n",
       "    .dataframe tbody tr th:only-of-type {\n",
       "        vertical-align: middle;\n",
       "    }\n",
       "\n",
       "    .dataframe tbody tr th {\n",
       "        vertical-align: top;\n",
       "    }\n",
       "\n",
       "    .dataframe thead th {\n",
       "        text-align: right;\n",
       "    }\n",
       "</style>\n",
       "<table border=\"1\" class=\"dataframe\">\n",
       "  <thead>\n",
       "    <tr style=\"text-align: right;\">\n",
       "      <th></th>\n",
       "      <th>Weight</th>\n",
       "      <th>Price</th>\n",
       "    </tr>\n",
       "  </thead>\n",
       "  <tbody>\n",
       "    <tr>\n",
       "      <th>0</th>\n",
       "      <td>2</td>\n",
       "      <td>35</td>\n",
       "    </tr>\n",
       "    <tr>\n",
       "      <th>1</th>\n",
       "      <td>4</td>\n",
       "      <td>60</td>\n",
       "    </tr>\n",
       "    <tr>\n",
       "      <th>2</th>\n",
       "      <td>5</td>\n",
       "      <td>20</td>\n",
       "    </tr>\n",
       "    <tr>\n",
       "      <th>3</th>\n",
       "      <td>3</td>\n",
       "      <td>50</td>\n",
       "    </tr>\n",
       "    <tr>\n",
       "      <th>4</th>\n",
       "      <td>6</td>\n",
       "      <td>50</td>\n",
       "    </tr>\n",
       "    <tr>\n",
       "      <th>5</th>\n",
       "      <td>5</td>\n",
       "      <td>55</td>\n",
       "    </tr>\n",
       "    <tr>\n",
       "      <th>6</th>\n",
       "      <td>7</td>\n",
       "      <td>60</td>\n",
       "    </tr>\n",
       "  </tbody>\n",
       "</table>\n",
       "</div>"
      ],
      "text/plain": [
       "   Weight   Price\n",
       "0        2     35\n",
       "1        4     60\n",
       "2        5     20\n",
       "3        3     50\n",
       "4        6     50\n",
       "5        5     55\n",
       "6        7     60"
      ]
     },
     "execution_count": 101,
     "metadata": {},
     "output_type": "execute_result"
    }
   ],
   "source": [
    "data"
   ]
  },
  {
   "cell_type": "code",
   "execution_count": 102,
   "id": "2bd678fa-3854-407a-8ed6-82c5be603068",
   "metadata": {
    "tags": []
   },
   "outputs": [],
   "source": [
    "x=data['Weight ']"
   ]
  },
  {
   "cell_type": "code",
   "execution_count": 103,
   "id": "cb37dd67-bd09-482f-b941-c3d1af89017c",
   "metadata": {
    "tags": []
   },
   "outputs": [
    {
     "data": {
      "text/plain": [
       "0    2\n",
       "1    4\n",
       "2    5\n",
       "3    3\n",
       "4    6\n",
       "5    5\n",
       "6    7\n",
       "Name: Weight , dtype: int64"
      ]
     },
     "execution_count": 103,
     "metadata": {},
     "output_type": "execute_result"
    }
   ],
   "source": [
    "x"
   ]
  },
  {
   "cell_type": "code",
   "execution_count": 104,
   "id": "6705d9ea-762e-48ca-b43c-985813909dae",
   "metadata": {
    "tags": []
   },
   "outputs": [],
   "source": [
    "y=data['Price']"
   ]
  },
  {
   "cell_type": "code",
   "execution_count": 105,
   "id": "c169a4a7-74fb-4545-b69e-d4c0ba76a4f3",
   "metadata": {},
   "outputs": [
    {
     "data": {
      "text/plain": [
       "0    35\n",
       "1    60\n",
       "2    20\n",
       "3    50\n",
       "4    50\n",
       "5    55\n",
       "6    60\n",
       "Name: Price, dtype: int64"
      ]
     },
     "execution_count": 105,
     "metadata": {},
     "output_type": "execute_result"
    }
   ],
   "source": [
    "y"
   ]
  },
  {
   "cell_type": "code",
   "execution_count": 106,
   "id": "463b1372-4543-4014-b5ac-0000279f4ebe",
   "metadata": {},
   "outputs": [],
   "source": [
    "mean_x=nm.mean(x)\n",
    "mean_y=nm.mean(y)"
   ]
  },
  {
   "cell_type": "code",
   "execution_count": 107,
   "id": "ec2d362b-a527-4985-b401-c293976d1487",
   "metadata": {
    "tags": []
   },
   "outputs": [
    {
     "data": {
      "text/plain": [
       "4.571428571428571"
      ]
     },
     "execution_count": 107,
     "metadata": {},
     "output_type": "execute_result"
    }
   ],
   "source": [
    "mean_x\n"
   ]
  },
  {
   "cell_type": "code",
   "execution_count": 108,
   "id": "460e5568-9585-43fd-8903-a0cc9d354269",
   "metadata": {
    "tags": []
   },
   "outputs": [
    {
     "data": {
      "text/plain": [
       "47.142857142857146"
      ]
     },
     "execution_count": 108,
     "metadata": {},
     "output_type": "execute_result"
    }
   ],
   "source": [
    "mean_y"
   ]
  },
  {
   "cell_type": "code",
   "execution_count": 109,
   "id": "cebba2c0-65bc-4984-849c-a1bf6b7a7d81",
   "metadata": {
    "tags": []
   },
   "outputs": [],
   "source": [
    "dev_x=x-mean_x\n",
    "dev_y=y-mean_y"
   ]
  },
  {
   "cell_type": "code",
   "execution_count": 110,
   "id": "cd8e6c71-52a2-48e8-9a21-e1357aeaa48a",
   "metadata": {
    "tags": []
   },
   "outputs": [
    {
     "data": {
      "text/plain": [
       "0   -2.571429\n",
       "1   -0.571429\n",
       "2    0.428571\n",
       "3   -1.571429\n",
       "4    1.428571\n",
       "5    0.428571\n",
       "6    2.428571\n",
       "Name: Weight , dtype: float64"
      ]
     },
     "execution_count": 110,
     "metadata": {},
     "output_type": "execute_result"
    }
   ],
   "source": [
    "dev_x"
   ]
  },
  {
   "cell_type": "code",
   "execution_count": 111,
   "id": "77958fe1-260b-4c9c-9c88-955f3a46af15",
   "metadata": {
    "tags": []
   },
   "outputs": [],
   "source": [
    "dev_y"
   ]
  },
  {
   "cell_type": "code",
   "execution_count": 117,
   "id": "ae15a4b3-80ba-47c1-ba26-ae775f5d2490",
   "metadata": {
    "tags": []
   },
   "outputs": [],
   "source": [
    "m=nm.sum(dev_x * dev_y)/nm.sum(dev_x**2) #slope"
   ]
  },
  {
   "cell_type": "code",
   "execution_count": 118,
   "id": "93012ce0-65c6-4d12-9371-157cb0e3810e",
   "metadata": {
    "tags": []
   },
   "outputs": [
    {
     "data": {
      "text/plain": [
       "2.620967741935484"
      ]
     },
     "execution_count": 118,
     "metadata": {},
     "output_type": "execute_result"
    }
   ],
   "source": [
    "m"
   ]
  },
  {
   "cell_type": "code",
   "execution_count": 121,
   "id": "ed1ee9ad-2fb7-453e-99ba-44be3e62f507",
   "metadata": {
    "tags": []
   },
   "outputs": [],
   "source": [
    "c=mean_y - m*mean_x #Intercept"
   ]
  },
  {
   "cell_type": "code",
   "execution_count": 122,
   "id": "96dba897-ed80-4683-b2ca-22d328943bea",
   "metadata": {
    "tags": []
   },
   "outputs": [
    {
     "data": {
      "text/plain": [
       "35.16129032258065"
      ]
     },
     "execution_count": 122,
     "metadata": {},
     "output_type": "execute_result"
    }
   ],
   "source": [
    "c"
   ]
  },
  {
   "cell_type": "code",
   "execution_count": 125,
   "id": "42cebaa0-ed9c-4831-a77b-77ff3909ee0f",
   "metadata": {
    "tags": []
   },
   "outputs": [],
   "source": [
    "y = m * 7 + c #predictade value"
   ]
  },
  {
   "cell_type": "code",
   "execution_count": 126,
   "id": "3121a5a0-da21-4d5f-82fd-007a436d7de5",
   "metadata": {
    "tags": []
   },
   "outputs": [
    {
     "data": {
      "text/plain": [
       "53.50806451612904"
      ]
     },
     "execution_count": 126,
     "metadata": {},
     "output_type": "execute_result"
    }
   ],
   "source": [
    "y"
   ]
  },
  {
   "cell_type": "code",
   "execution_count": 127,
   "id": "6fe554cf-c699-4fd1-a1c0-ca8a603ecc03",
   "metadata": {
    "tags": []
   },
   "outputs": [],
   "source": [
    "lose = 60 - y # lose for 7 .the price of 7 we have 60 and our predicted is 53.50806451612904 .This is the lose for 7"
   ]
  },
  {
   "cell_type": "code",
   "execution_count": 128,
   "id": "67b00b04-f513-439b-9951-b54ef904f898",
   "metadata": {
    "tags": []
   },
   "outputs": [
    {
     "data": {
      "text/plain": [
       "6.491935483870961"
      ]
     },
     "execution_count": 128,
     "metadata": {},
     "output_type": "execute_result"
    }
   ],
   "source": [
    "lose"
   ]
  },
  {
   "cell_type": "code",
   "execution_count": 129,
   "id": "f464ef92-3350-4efe-8dfa-0b565f8ff0d5",
   "metadata": {
    "tags": []
   },
   "outputs": [],
   "source": [
    "new_x =data[['Weight ']]"
   ]
  },
  {
   "cell_type": "code",
   "execution_count": 130,
   "id": "f471afd4-3b84-4870-83eb-0d3028a12947",
   "metadata": {
    "tags": []
   },
   "outputs": [],
   "source": [
    "new_y =data[['Price']]"
   ]
  },
  {
   "cell_type": "code",
   "execution_count": 140,
   "id": "78e5e7d6-2547-4720-8ef2-cb40b14bdc1d",
   "metadata": {
    "tags": []
   },
   "outputs": [],
   "source": [
    "from sklearn.linear_model import LinearRegression\n",
    "from sklearn.model_selection import train_test_split\n",
    "import warnings\n",
    "warnings.filterwarnings('ignore')"
   ]
  },
  {
   "cell_type": "code",
   "execution_count": 137,
   "id": "acf49f0b-835f-4b70-8cf2-194a8180d9cb",
   "metadata": {
    "tags": []
   },
   "outputs": [],
   "source": [
    "reg=LinearRegression()"
   ]
  },
  {
   "cell_type": "code",
   "execution_count": 141,
   "id": "5cf5f4e4-863b-481e-aac2-c403958da948",
   "metadata": {
    "tags": []
   },
   "outputs": [],
   "source": [
    "xtest,xtrain,ytest,ytrain=train_test_split(new_x,new_y,random_state=1,train_size=0.30)"
   ]
  },
  {
   "cell_type": "code",
   "execution_count": 145,
   "id": "7848834b-e514-441a-9c0d-dc6906d7669c",
   "metadata": {
    "tags": []
   },
   "outputs": [
    {
     "data": {
      "text/html": [
       "<style>#sk-container-id-3 {color: black;}#sk-container-id-3 pre{padding: 0;}#sk-container-id-3 div.sk-toggleable {background-color: white;}#sk-container-id-3 label.sk-toggleable__label {cursor: pointer;display: block;width: 100%;margin-bottom: 0;padding: 0.3em;box-sizing: border-box;text-align: center;}#sk-container-id-3 label.sk-toggleable__label-arrow:before {content: \"▸\";float: left;margin-right: 0.25em;color: #696969;}#sk-container-id-3 label.sk-toggleable__label-arrow:hover:before {color: black;}#sk-container-id-3 div.sk-estimator:hover label.sk-toggleable__label-arrow:before {color: black;}#sk-container-id-3 div.sk-toggleable__content {max-height: 0;max-width: 0;overflow: hidden;text-align: left;background-color: #f0f8ff;}#sk-container-id-3 div.sk-toggleable__content pre {margin: 0.2em;color: black;border-radius: 0.25em;background-color: #f0f8ff;}#sk-container-id-3 input.sk-toggleable__control:checked~div.sk-toggleable__content {max-height: 200px;max-width: 100%;overflow: auto;}#sk-container-id-3 input.sk-toggleable__control:checked~label.sk-toggleable__label-arrow:before {content: \"▾\";}#sk-container-id-3 div.sk-estimator input.sk-toggleable__control:checked~label.sk-toggleable__label {background-color: #d4ebff;}#sk-container-id-3 div.sk-label input.sk-toggleable__control:checked~label.sk-toggleable__label {background-color: #d4ebff;}#sk-container-id-3 input.sk-hidden--visually {border: 0;clip: rect(1px 1px 1px 1px);clip: rect(1px, 1px, 1px, 1px);height: 1px;margin: -1px;overflow: hidden;padding: 0;position: absolute;width: 1px;}#sk-container-id-3 div.sk-estimator {font-family: monospace;background-color: #f0f8ff;border: 1px dotted black;border-radius: 0.25em;box-sizing: border-box;margin-bottom: 0.5em;}#sk-container-id-3 div.sk-estimator:hover {background-color: #d4ebff;}#sk-container-id-3 div.sk-parallel-item::after {content: \"\";width: 100%;border-bottom: 1px solid gray;flex-grow: 1;}#sk-container-id-3 div.sk-label:hover label.sk-toggleable__label {background-color: #d4ebff;}#sk-container-id-3 div.sk-serial::before {content: \"\";position: absolute;border-left: 1px solid gray;box-sizing: border-box;top: 0;bottom: 0;left: 50%;z-index: 0;}#sk-container-id-3 div.sk-serial {display: flex;flex-direction: column;align-items: center;background-color: white;padding-right: 0.2em;padding-left: 0.2em;position: relative;}#sk-container-id-3 div.sk-item {position: relative;z-index: 1;}#sk-container-id-3 div.sk-parallel {display: flex;align-items: stretch;justify-content: center;background-color: white;position: relative;}#sk-container-id-3 div.sk-item::before, #sk-container-id-3 div.sk-parallel-item::before {content: \"\";position: absolute;border-left: 1px solid gray;box-sizing: border-box;top: 0;bottom: 0;left: 50%;z-index: -1;}#sk-container-id-3 div.sk-parallel-item {display: flex;flex-direction: column;z-index: 1;position: relative;background-color: white;}#sk-container-id-3 div.sk-parallel-item:first-child::after {align-self: flex-end;width: 50%;}#sk-container-id-3 div.sk-parallel-item:last-child::after {align-self: flex-start;width: 50%;}#sk-container-id-3 div.sk-parallel-item:only-child::after {width: 0;}#sk-container-id-3 div.sk-dashed-wrapped {border: 1px dashed gray;margin: 0 0.4em 0.5em 0.4em;box-sizing: border-box;padding-bottom: 0.4em;background-color: white;}#sk-container-id-3 div.sk-label label {font-family: monospace;font-weight: bold;display: inline-block;line-height: 1.2em;}#sk-container-id-3 div.sk-label-container {text-align: center;}#sk-container-id-3 div.sk-container {/* jupyter's `normalize.less` sets `[hidden] { display: none; }` but bootstrap.min.css set `[hidden] { display: none !important; }` so we also need the `!important` here to be able to override the default hidden behavior on the sphinx rendered scikit-learn.org. See: https://github.com/scikit-learn/scikit-learn/issues/21755 */display: inline-block !important;position: relative;}#sk-container-id-3 div.sk-text-repr-fallback {display: none;}</style><div id=\"sk-container-id-3\" class=\"sk-top-container\"><div class=\"sk-text-repr-fallback\"><pre>LinearRegression()</pre><b>In a Jupyter environment, please rerun this cell to show the HTML representation or trust the notebook. <br />On GitHub, the HTML representation is unable to render, please try loading this page with nbviewer.org.</b></div><div class=\"sk-container\" hidden><div class=\"sk-item\"><div class=\"sk-estimator sk-toggleable\"><input class=\"sk-toggleable__control sk-hidden--visually\" id=\"sk-estimator-id-3\" type=\"checkbox\" checked><label for=\"sk-estimator-id-3\" class=\"sk-toggleable__label sk-toggleable__label-arrow\">LinearRegression</label><div class=\"sk-toggleable__content\"><pre>LinearRegression()</pre></div></div></div></div></div>"
      ],
      "text/plain": [
       "LinearRegression()"
      ]
     },
     "execution_count": 145,
     "metadata": {},
     "output_type": "execute_result"
    }
   ],
   "source": [
    "reg.fit(xtrain, ytrain)"
   ]
  },
  {
   "cell_type": "code",
   "execution_count": 158,
   "id": "a4ecdde5-de2e-48dd-bb00-8e9688f62c5c",
   "metadata": {
    "tags": []
   },
   "outputs": [
    {
     "data": {
      "text/plain": [
       "array([[52.43243243]])"
      ]
     },
     "execution_count": 158,
     "metadata": {},
     "output_type": "execute_result"
    }
   ],
   "source": [
    "reg.predict([[7]])"
   ]
  },
  {
   "cell_type": "code",
   "execution_count": 159,
   "id": "cab6aa61-01e3-412c-b9fc-811bc8b7cabd",
   "metadata": {
    "tags": []
   },
   "outputs": [],
   "source": [
    "from matplotlib import pyplot as plt"
   ]
  },
  {
   "cell_type": "code",
   "execution_count": 160,
   "id": "2db9e1b3-fad9-4d75-a5cf-3fe9bdb8721a",
   "metadata": {
    "tags": []
   },
   "outputs": [
    {
     "data": {
      "text/plain": [
       "[<matplotlib.lines.Line2D at 0x2414173e510>]"
      ]
     },
     "execution_count": 160,
     "metadata": {},
     "output_type": "execute_result"
    },
    {
     "data": {
      "image/png": "[encoded data removed]",
      "text/plain": [
       "<Figure size 640x480 with 1 Axes>"
      ]
     },
     "metadata": {},
     "output_type": "display_data"
    }
   ],
   "source": [
    "plt.title('Pradicet Graph')\n",
    "plt.xlabel('xtest')\n",
    "plt.ylabel('predicet price')\n",
    "plt.plot(xtest,reg.predict(xtest))"
   ]
  },
  {
   "cell_type": "code",
   "execution_count": 147,
   "id": "465b6780-7d3b-4c73-9ef1-e277f17f11eb",
   "metadata": {
    "tags": []
   },
   "outputs": [],
   "source": [
    "from sklearn.metrics import mean_absolute_error ,mean_squared_error"
   ]
  },
  {
   "cell_type": "code",
   "execution_count": 148,
   "id": "9211274d-7bec-4ec0-819d-70d3bb4dcc71",
   "metadata": {
    "tags": []
   },
   "outputs": [],
   "source": [
    "mse=mean_squared_error(ytest , reg.predict(xtest))"
   ]
  },
  {
   "cell_type": "code",
   "execution_count": 149,
   "id": "83fc9de0-4acf-41e6-bfab-a42e5bce7c10",
   "metadata": {
    "tags": []
   },
   "outputs": [
    {
     "data": {
      "text/plain": [
       "104.86669101533965"
      ]
     },
     "execution_count": 149,
     "metadata": {},
     "output_type": "execute_result"
    }
   ],
   "source": [
    "mse"
   ]
  },
  {
   "cell_type": "code",
   "execution_count": 150,
   "id": "8d8b868e-ea80-473d-8623-c4ed872907f0",
   "metadata": {
    "tags": []
   },
   "outputs": [],
   "source": [
    "mae=mean_absolute_error(ytest , reg.predict(xtest))"
   ]
  },
  {
   "cell_type": "code",
   "execution_count": 151,
   "id": "84febf24-4955-48aa-9637-513d1968f0be",
   "metadata": {
    "tags": []
   },
   "outputs": [
    {
     "data": {
      "text/plain": [
       "10.202702702702702"
      ]
     },
     "execution_count": 151,
     "metadata": {},
     "output_type": "execute_result"
    }
   ],
   "source": [
    "mae"
   ]
  },
  {
   "cell_type": "code",
   "execution_count": 152,
   "id": "d240654b-242e-498f-85db-e1d7ffb2074a",
   "metadata": {
    "tags": []
   },
   "outputs": [],
   "source": [
    "datas = {\n",
    "    'Column1': [1, 2, 3, 4, 5],\n",
    "    'Column2': ['A', 'B', 'C', 'D', 'E'],\n",
    "    'Column3': [10.1, 20.2, 30.3, 40.4, 50.5]\n",
    "}\n"
   ]
  },
  {
   "cell_type": "code",
   "execution_count": 153,
   "id": "b1643039-aa79-4f19-98d9-3d1a65f18579",
   "metadata": {
    "tags": []
   },
   "outputs": [],
   "source": [
    "df = pd.DataFrame(datas)"
   ]
  },
  {
   "cell_type": "code",
   "execution_count": 157,
   "id": "09af50f6-09a6-4892-ab65-507f6e3e52ac",
   "metadata": {
    "tags": []
   },
   "outputs": [],
   "source": [
    "df.to_excel('Data sets/new_data.xlsx')"
   ]
  },
  {
   "cell_type": "code",
   "execution_count": null,
   "id": "bb28f106-011e-4fcd-8654-5ee498601dce",
   "metadata": {},
   "outputs": [],
   "source": []
  },
  {
   "cell_type": "code",
   "execution_count": null,
   "id": "badee6f0-9c6b-4518-8c88-86888e5fe33e",
   "metadata": {},
   "outputs": [],
   "source": []
  }
 ],
 "metadata": {
  "kernelspec": {
   "display_name": "Python 3 (ipykernel)",
   "language": "python",
   "name": "python3"
  },
  "language_info": {
   "codemirror_mode": {
    "name": "ipython",
    "version": 3
   },
   "file_extension": ".py",
   "mimetype": "text/x-python",
   "name": "python",
   "nbconvert_exporter": "python",
   "pygments_lexer": "ipython3",
   "version": "3.11.5"
  }
 },
 "nbformat": 4,
 "nbformat_minor": 5
}

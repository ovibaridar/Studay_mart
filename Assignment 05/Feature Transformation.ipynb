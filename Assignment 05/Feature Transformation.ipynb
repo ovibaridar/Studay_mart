{
 "cells": [
  {
   "cell_type": "code",
   "execution_count": 7,
   "id": "01e7a8d9-62e5-441e-802e-2cc6aca964ff",
   "metadata": {
    "tags": []
   },
   "outputs": [],
   "source": [
    "import pandas as pd\n",
    "import numpy as nm"
   ]
  },
  {
   "cell_type": "code",
   "execution_count": 8,
   "id": "44386565-a50a-40a9-bcfb-13f613d00021",
   "metadata": {
    "tags": []
   },
   "outputs": [],
   "source": [
    "path='data sets/price_data.csv'"
   ]
  },
  {
   "cell_type": "code",
   "execution_count": 24,
   "id": "92b93bee-16e6-4300-beee-71196b898b62",
   "metadata": {
    "tags": []
   },
   "outputs": [],
   "source": [
    "price=pd.read_csv(path)"
   ]
  },
  {
   "cell_type": "code",
   "execution_count": 25,
   "id": "5c84687f-b059-4dca-b3fc-8e5436690711",
   "metadata": {
    "tags": []
   },
   "outputs": [
    {
     "data": {
      "text/html": [
       "<div>\n",
       "<style scoped>\n",
       "    .dataframe tbody tr th:only-of-type {\n",
       "        vertical-align: middle;\n",
       "    }\n",
       "\n",
       "    .dataframe tbody tr th {\n",
       "        vertical-align: top;\n",
       "    }\n",
       "\n",
       "    .dataframe thead th {\n",
       "        text-align: right;\n",
       "    }\n",
       "</style>\n",
       "<table border=\"1\" class=\"dataframe\">\n",
       "  <thead>\n",
       "    <tr style=\"text-align: right;\">\n",
       "      <th></th>\n",
       "      <th>cost</th>\n",
       "    </tr>\n",
       "  </thead>\n",
       "  <tbody>\n",
       "    <tr>\n",
       "      <th>0</th>\n",
       "      <td>110</td>\n",
       "    </tr>\n",
       "    <tr>\n",
       "      <th>1</th>\n",
       "      <td>105</td>\n",
       "    </tr>\n",
       "    <tr>\n",
       "      <th>2</th>\n",
       "      <td>115</td>\n",
       "    </tr>\n",
       "    <tr>\n",
       "      <th>3</th>\n",
       "      <td>120</td>\n",
       "    </tr>\n",
       "    <tr>\n",
       "      <th>4</th>\n",
       "      <td>110</td>\n",
       "    </tr>\n",
       "    <tr>\n",
       "      <th>5</th>\n",
       "      <td>130</td>\n",
       "    </tr>\n",
       "    <tr>\n",
       "      <th>6</th>\n",
       "      <td>150</td>\n",
       "    </tr>\n",
       "    <tr>\n",
       "      <th>7</th>\n",
       "      <td>100</td>\n",
       "    </tr>\n",
       "    <tr>\n",
       "      <th>8</th>\n",
       "      <td>105</td>\n",
       "    </tr>\n",
       "  </tbody>\n",
       "</table>\n",
       "</div>"
      ],
      "text/plain": [
       "   cost\n",
       "0   110\n",
       "1   105\n",
       "2   115\n",
       "3   120\n",
       "4   110\n",
       "5   130\n",
       "6   150\n",
       "7   100\n",
       "8   105"
      ]
     },
     "execution_count": 25,
     "metadata": {},
     "output_type": "execute_result"
    }
   ],
   "source": [
    "price"
   ]
  },
  {
   "cell_type": "code",
   "execution_count": 26,
   "id": "25bbcb22-27a2-418a-989b-e73e4b61e971",
   "metadata": {
    "tags": []
   },
   "outputs": [],
   "source": [
    "x=price[['cost']]"
   ]
  },
  {
   "cell_type": "code",
   "execution_count": 27,
   "id": "2a89b1a5-4ef0-45b1-b391-2897d991c005",
   "metadata": {
    "tags": []
   },
   "outputs": [],
   "source": [
    "from sklearn.preprocessing import MinMaxScaler,StandardScaler,RobustScaler,MaxAbsScaler,FunctionTransformer"
   ]
  },
  {
   "cell_type": "code",
   "execution_count": 28,
   "id": "a5b36ce2-e3fd-42ca-9673-8d59f8edda8a",
   "metadata": {
    "tags": []
   },
   "outputs": [],
   "source": [
    "Normalization = MinMaxScaler()\n",
    "StandardScaler = StandardScaler()\n",
    "RobustScaler = RobustScaler()\n",
    "MaxAbsScaler = MaxAbsScaler()\n",
    "FunctionTransformer = FunctionTransformer(nm.log1p)"
   ]
  },
  {
   "cell_type": "code",
   "execution_count": 30,
   "id": "f1ec915b-550c-4e26-b560-7f5ada6f8b6e",
   "metadata": {
    "tags": []
   },
   "outputs": [],
   "source": [
    "price['Normalization'] = Normalization.fit_transform(x)\n",
    "price['StandardScaler'] = StandardScaler.fit_transform(x)\n",
    "price['RobustScaler'] = RobustScaler.fit_transform(x)\n",
    "price['MaxAbsScaler'] = MaxAbsScaler.fit_transform(x)\n",
    "price['FunctionTransformer'] = FunctionTransformer.fit_transform(x)"
   ]
  },
  {
   "cell_type": "code",
   "execution_count": 31,
   "id": "1f3c162c-90c4-454d-bf05-a91d6d35e93e",
   "metadata": {
    "tags": []
   },
   "outputs": [
    {
     "data": {
      "text/html": [
       "<div>\n",
       "<style scoped>\n",
       "    .dataframe tbody tr th:only-of-type {\n",
       "        vertical-align: middle;\n",
       "    }\n",
       "\n",
       "    .dataframe tbody tr th {\n",
       "        vertical-align: top;\n",
       "    }\n",
       "\n",
       "    .dataframe thead th {\n",
       "        text-align: right;\n",
       "    }\n",
       "</style>\n",
       "<table border=\"1\" class=\"dataframe\">\n",
       "  <thead>\n",
       "    <tr style=\"text-align: right;\">\n",
       "      <th></th>\n",
       "      <th>cost</th>\n",
       "      <th>Normalization</th>\n",
       "      <th>StandardScaler</th>\n",
       "      <th>RobustScaler</th>\n",
       "      <th>MaxAbsScaler</th>\n",
       "      <th>FunctionTransformer</th>\n",
       "    </tr>\n",
       "  </thead>\n",
       "  <tbody>\n",
       "    <tr>\n",
       "      <th>0</th>\n",
       "      <td>110</td>\n",
       "      <td>0.2</td>\n",
       "      <td>-0.416356</td>\n",
       "      <td>0.000000</td>\n",
       "      <td>0.733333</td>\n",
       "      <td>4.709530</td>\n",
       "    </tr>\n",
       "    <tr>\n",
       "      <th>1</th>\n",
       "      <td>105</td>\n",
       "      <td>0.1</td>\n",
       "      <td>-0.757011</td>\n",
       "      <td>-0.333333</td>\n",
       "      <td>0.700000</td>\n",
       "      <td>4.663439</td>\n",
       "    </tr>\n",
       "    <tr>\n",
       "      <th>2</th>\n",
       "      <td>115</td>\n",
       "      <td>0.3</td>\n",
       "      <td>-0.075701</td>\n",
       "      <td>0.333333</td>\n",
       "      <td>0.766667</td>\n",
       "      <td>4.753590</td>\n",
       "    </tr>\n",
       "    <tr>\n",
       "      <th>3</th>\n",
       "      <td>120</td>\n",
       "      <td>0.4</td>\n",
       "      <td>0.264954</td>\n",
       "      <td>0.666667</td>\n",
       "      <td>0.800000</td>\n",
       "      <td>4.795791</td>\n",
       "    </tr>\n",
       "    <tr>\n",
       "      <th>4</th>\n",
       "      <td>110</td>\n",
       "      <td>0.2</td>\n",
       "      <td>-0.416356</td>\n",
       "      <td>0.000000</td>\n",
       "      <td>0.733333</td>\n",
       "      <td>4.709530</td>\n",
       "    </tr>\n",
       "    <tr>\n",
       "      <th>5</th>\n",
       "      <td>130</td>\n",
       "      <td>0.6</td>\n",
       "      <td>0.946264</td>\n",
       "      <td>1.333333</td>\n",
       "      <td>0.866667</td>\n",
       "      <td>4.875197</td>\n",
       "    </tr>\n",
       "    <tr>\n",
       "      <th>6</th>\n",
       "      <td>150</td>\n",
       "      <td>1.0</td>\n",
       "      <td>2.308884</td>\n",
       "      <td>2.666667</td>\n",
       "      <td>1.000000</td>\n",
       "      <td>5.017280</td>\n",
       "    </tr>\n",
       "    <tr>\n",
       "      <th>7</th>\n",
       "      <td>100</td>\n",
       "      <td>0.0</td>\n",
       "      <td>-1.097666</td>\n",
       "      <td>-0.666667</td>\n",
       "      <td>0.666667</td>\n",
       "      <td>4.615121</td>\n",
       "    </tr>\n",
       "    <tr>\n",
       "      <th>8</th>\n",
       "      <td>105</td>\n",
       "      <td>0.1</td>\n",
       "      <td>-0.757011</td>\n",
       "      <td>-0.333333</td>\n",
       "      <td>0.700000</td>\n",
       "      <td>4.663439</td>\n",
       "    </tr>\n",
       "  </tbody>\n",
       "</table>\n",
       "</div>"
      ],
      "text/plain": [
       "   cost  Normalization  StandardScaler  RobustScaler  MaxAbsScaler  \\\n",
       "0   110            0.2       -0.416356      0.000000      0.733333   \n",
       "1   105            0.1       -0.757011     -0.333333      0.700000   \n",
       "2   115            0.3       -0.075701      0.333333      0.766667   \n",
       "3   120            0.4        0.264954      0.666667      0.800000   \n",
       "4   110            0.2       -0.416356      0.000000      0.733333   \n",
       "5   130            0.6        0.946264      1.333333      0.866667   \n",
       "6   150            1.0        2.308884      2.666667      1.000000   \n",
       "7   100            0.0       -1.097666     -0.666667      0.666667   \n",
       "8   105            0.1       -0.757011     -0.333333      0.700000   \n",
       "\n",
       "   FunctionTransformer  \n",
       "0             4.709530  \n",
       "1             4.663439  \n",
       "2             4.753590  \n",
       "3             4.795791  \n",
       "4             4.709530  \n",
       "5             4.875197  \n",
       "6             5.017280  \n",
       "7             4.615121  \n",
       "8             4.663439  "
      ]
     },
     "execution_count": 31,
     "metadata": {},
     "output_type": "execute_result"
    }
   ],
   "source": [
    "price"
   ]
  },
  {
   "cell_type": "code",
   "execution_count": null,
   "id": "f973720d-1c8e-4830-bfb8-22c4e4724026",
   "metadata": {},
   "outputs": [],
   "source": []
  }
 ],
 "metadata": {
  "kernelspec": {
   "display_name": "Python 3 (ipykernel)",
   "language": "python",
   "name": "python3"
  },
  "language_info": {
   "codemirror_mode": {
    "name": "ipython",
    "version": 3
   },
   "file_extension": ".py",
   "mimetype": "text/x-python",
   "name": "python",
   "nbconvert_exporter": "python",
   "pygments_lexer": "ipython3",
   "version": "3.11.5"
  }
 },
 "nbformat": 4,
 "nbformat_minor": 5
}
